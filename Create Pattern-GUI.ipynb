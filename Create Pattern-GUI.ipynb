{
 "cells": [
  {
   "cell_type": "code",
   "execution_count": null,
   "metadata": {
    "collapsed": true,
    "deletable": true,
    "editable": true
   },
   "outputs": [],
   "source": [
    "import matplotlib.pyplot as plt\n",
    "import matplotlib as mpl\n",
    "%matplotlib qt5"
   ]
  },
  {
   "cell_type": "code",
   "execution_count": null,
   "metadata": {
    "collapsed": false,
    "deletable": true,
    "editable": true,
    "scrolled": true
   },
   "outputs": [],
   "source": [
    "%run patternlib"
   ]
  },
  {
   "cell_type": "code",
   "execution_count": null,
   "metadata": {
    "collapsed": false,
    "deletable": true,
    "editable": true
   },
   "outputs": [],
   "source": [
    "d = {\n",
    " 'Xm': [21, 21.72, 44.87, 68.2, 91.45, 114.72, 137.87, 160.97, 184.04],\n",
    " 'Ym': [21.72, 44.87, 68.2, 91.45, 114.72, 137.87, 160.97, 184.04],\n",
    " 'center_x': 0,\n",
    " 'center_y': 0,\n",
    " 'dark_all': False,\n",
    " 'focal': 0.032,\n",
    " 'grid': True,\n",
    " 'steer_only': False,\n",
    " 'nrows': 12,\n",
    " 'ncols': 1,\n",
    " 'phase_factor': 82,\n",
    " 'phase_max': 3.,\n",
    " 'phase_wrap_neg': True,\n",
    " 'phase_wrap_pos': False,\n",
    " 'pitch_x': 25,\n",
    " 'pitch_y': 25,\n",
    " 'ref_spot': 0,\n",
    " 'ref_spot_dark': False,\n",
    " 'rotation': 1,\n",
    " 'spotsize': 30.0,\n",
    " 'steer_horiz': True,\n",
    " 'steer_lw': 1,\n",
    " 'steer_pad': 0,\n",
    " 'steer_vmax': 95,\n",
    " 'test_pattern': False,\n",
    " 'wavelen': 532e-09,\n",
    " 'stretch': True,\n",
    "}\n",
    "a = compute_pattern(**d)"
   ]
  },
  {
   "cell_type": "code",
   "execution_count": null,
   "metadata": {
    "collapsed": false,
    "deletable": true,
    "editable": true
   },
   "outputs": [],
   "source": []
  },
  {
   "cell_type": "code",
   "execution_count": null,
   "metadata": {
    "collapsed": false,
    "deletable": true,
    "editable": true,
    "scrolled": false
   },
   "outputs": [],
   "source": [
    "fig, ax = plt.subplots(figsize=(8, 5))\n",
    "im = plt.imshow(a, interpolation='none', cmap='magma',\n",
    "                vmin=0, vmax=255)#, norm=mpl.colors.LogNorm(1, 255))\n",
    "plt.colorbar()\n",
    "#plt.tight_layout()"
   ]
  },
  {
   "cell_type": "code",
   "execution_count": null,
   "metadata": {
    "collapsed": true,
    "deletable": true,
    "editable": true
   },
   "outputs": [],
   "source": [
    "import sys\n",
    "from PyQt5 import QtCore, QtGui, QtWidgets\n",
    "\n",
    "screen_resolution = 1920, 1200\n",
    "\n",
    "app = QtWidgets.QApplication(sys.argv)\n",
    "label = QtWidgets.QLabel()\n",
    "label.setWindowFlags(QtCore.Qt.FramelessWindowHint)\n",
    "label.resize(800,600)\n",
    "label.move(0,0)\n",
    "label.setWindowTitle('LCOS Pattern')\n",
    "label.show()"
   ]
  },
  {
   "cell_type": "code",
   "execution_count": null,
   "metadata": {
    "collapsed": true,
    "deletable": true,
    "editable": true
   },
   "outputs": [],
   "source": [
    "def set_pattern(a):\n",
    "    i = QtGui.QImage(a.tostring(), 800, 600, QtGui.QImage.Format_Indexed8)\n",
    "    p = QtGui.QPixmap.fromImage(i)\n",
    "    label.setPixmap(p)\n",
    "    label.show()\n",
    "\n",
    "def set_pattern_dual(a, im):\n",
    "    set_pattern(a)\n",
    "    im.set_data(a)\n",
    "    plt.draw()\n",
    "\n",
    "def clear_pattern():\n",
    "    label.hide()\n",
    "\n",
    "def move_to_2nd_screen():\n",
    "    label.move(screen_resolution[0], 0)\n",
    "\n",
    "def move_to_3rd_screen():\n",
    "    label.move(0, screen_resolution[1])\n",
    "\n",
    "def move_to_main_screen():\n",
    "    label.move(0, 0)"
   ]
  },
  {
   "cell_type": "code",
   "execution_count": null,
   "metadata": {
    "collapsed": true,
    "deletable": true,
    "editable": true
   },
   "outputs": [],
   "source": [
    "# set_pattern(a)"
   ]
  },
  {
   "cell_type": "code",
   "execution_count": null,
   "metadata": {
    "collapsed": false,
    "deletable": true,
    "editable": true
   },
   "outputs": [],
   "source": [
    "d = {\n",
    " 'Xm': [21, 21.72, 44.87, 68.2, 91.45, 114.72, 137.87, 160.97, 184.04],\n",
    " 'Ym': [21.72, 44.87, 68.2, 91.45, 114.72, 137.87, 160.97, 184.04],\n",
    " 'center_x': -100,\n",
    " 'center_y': 100,\n",
    " 'dark_all': False,\n",
    " 'focal': 0.036,\n",
    " 'grid': True,\n",
    " 'steer_only': False,\n",
    " 'nrows': 12,\n",
    " 'ncols': 1,\n",
    " 'phase_factor': 82,\n",
    " 'phase_max': 3.,\n",
    " 'phase_wrap_neg': True,\n",
    " 'phase_wrap_pos': False,\n",
    " 'pitch_x': 0,\n",
    " 'pitch_y': 40,\n",
    " 'ref_spot': 0,\n",
    " 'ref_spot_dark': False,\n",
    " 'rotation': 1,\n",
    " 'spotsize': 30.0,\n",
    " 'steer_horiz': True,\n",
    " 'steer_lw': 1,\n",
    " 'steer_pad': 0,\n",
    " 'steer_vmax': 95,\n",
    " 'test_pattern': False,\n",
    " 'wavelen': 532e-09,\n",
    " 'stretch': True,\n",
    "}\n",
    "a = compute_pattern(**d)"
   ]
  },
  {
   "cell_type": "code",
   "execution_count": null,
   "metadata": {
    "collapsed": false,
    "deletable": true,
    "editable": true
   },
   "outputs": [],
   "source": [
    "set_pattern_dual(a, im)"
   ]
  },
  {
   "cell_type": "code",
   "execution_count": null,
   "metadata": {
    "collapsed": true,
    "deletable": true,
    "editable": true
   },
   "outputs": [],
   "source": [
    "b = black_pattern()"
   ]
  },
  {
   "cell_type": "code",
   "execution_count": null,
   "metadata": {
    "collapsed": true,
    "deletable": true,
    "editable": true
   },
   "outputs": [],
   "source": [
    "move_to_3rd_screen()"
   ]
  },
  {
   "cell_type": "code",
   "execution_count": null,
   "metadata": {
    "collapsed": true,
    "deletable": true,
    "editable": true
   },
   "outputs": [],
   "source": [
    "move_to_main_screen()"
   ]
  },
  {
   "cell_type": "code",
   "execution_count": null,
   "metadata": {
    "collapsed": true,
    "deletable": true,
    "editable": true
   },
   "outputs": [],
   "source": []
  },
  {
   "cell_type": "code",
   "execution_count": null,
   "metadata": {
    "collapsed": true,
    "deletable": true,
    "editable": true
   },
   "outputs": [],
   "source": []
  },
  {
   "cell_type": "markdown",
   "metadata": {
    "collapsed": true,
    "deletable": true,
    "editable": true
   },
   "source": [
    "# Line Pattern"
   ]
  },
  {
   "cell_type": "code",
   "execution_count": null,
   "metadata": {
    "collapsed": false,
    "deletable": true,
    "editable": true
   },
   "outputs": [],
   "source": [
    "dl = dict(\n",
    "    center=0,\n",
    "    width=30,\n",
    "    horiz=True,\n",
    "    focal=0.036,\n",
    "    phase_factor=82,\n",
    "    phase_max=3,\n",
    "    phase_wrap_pos=False,\n",
    "    phase_wrap_neg=True,\n",
    "    wavelen=532e-9,\n",
    "    steer_vmax=95,\n",
    "    steer_lw=1, \n",
    "    steer_horiz=True, \n",
    "    pad=0,\n",
    ")"
   ]
  },
  {
   "cell_type": "code",
   "execution_count": null,
   "metadata": {
    "collapsed": false,
    "deletable": true,
    "editable": true
   },
   "outputs": [],
   "source": [
    "a = compute_linepattern(**dl)"
   ]
  },
  {
   "cell_type": "code",
   "execution_count": null,
   "metadata": {
    "collapsed": true,
    "deletable": true,
    "editable": true
   },
   "outputs": [],
   "source": [
    "set_pattern_dual(a, im)"
   ]
  },
  {
   "cell_type": "code",
   "execution_count": null,
   "metadata": {
    "collapsed": true,
    "deletable": true,
    "editable": true
   },
   "outputs": [],
   "source": [
    "move_to_3rd_screen()"
   ]
  },
  {
   "cell_type": "code",
   "execution_count": null,
   "metadata": {
    "collapsed": true,
    "deletable": true,
    "editable": true
   },
   "outputs": [],
   "source": [
    "move_to_main_screen()"
   ]
  },
  {
   "cell_type": "code",
   "execution_count": null,
   "metadata": {
    "collapsed": true,
    "deletable": true,
    "editable": true
   },
   "outputs": [],
   "source": []
  },
  {
   "cell_type": "code",
   "execution_count": null,
   "metadata": {
    "collapsed": false,
    "deletable": true,
    "editable": true
   },
   "outputs": [],
   "source": [
    "%timeit compute_linepattern(**dl)"
   ]
  },
  {
   "cell_type": "code",
   "execution_count": null,
   "metadata": {
    "collapsed": false,
    "deletable": true,
    "editable": true
   },
   "outputs": [],
   "source": [
    "fig, ax = plt.subplots(figsize=(8, 5))\n",
    "im = plt.imshow(a, interpolation='none', cmap='magma', vmin=0, vmax=255)\n",
    "plt.colorbar()"
   ]
  },
  {
   "cell_type": "code",
   "execution_count": null,
   "metadata": {
    "collapsed": true
   },
   "outputs": [],
   "source": []
  }
 ],
 "metadata": {
  "anaconda-cloud": {},
  "kernelspec": {
   "display_name": "Python 3",
   "language": "python",
   "name": "python3"
  },
  "language_info": {
   "codemirror_mode": {
    "name": "ipython",
    "version": 3
   },
   "file_extension": ".py",
   "mimetype": "text/x-python",
   "name": "python",
   "nbconvert_exporter": "python",
   "pygments_lexer": "ipython3",
   "version": "3.6.1"
  },
  "nav_menu": {},
  "toc": {
   "navigate_menu": true,
   "number_sections": true,
   "sideBar": true,
   "threshold": 6,
   "toc_cell": false,
   "toc_section_display": "block",
   "toc_window_display": false
  }
 },
 "nbformat": 4,
 "nbformat_minor": 0
}
