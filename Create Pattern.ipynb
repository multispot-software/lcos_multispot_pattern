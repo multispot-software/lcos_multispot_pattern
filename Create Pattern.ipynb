{
 "cells": [
  {
   "cell_type": "code",
   "execution_count": null,
   "metadata": {
    "collapsed": true,
    "deletable": true,
    "editable": true
   },
   "outputs": [],
   "source": [
    "import matplotlib.pyplot as plt\n",
    "import matplotlib as mpl\n",
    "%matplotlib notebook\n",
    "#%config InlineBackend.figure_format='retina'  # for hi-dpi displays"
   ]
  },
  {
   "cell_type": "code",
   "execution_count": null,
   "metadata": {
    "collapsed": false,
    "deletable": true,
    "editable": true,
    "scrolled": true
   },
   "outputs": [],
   "source": [
    "%run patternlib"
   ]
  },
  {
   "cell_type": "code",
   "execution_count": null,
   "metadata": {
    "collapsed": false,
    "deletable": true,
    "editable": true
   },
   "outputs": [],
   "source": [
    "d = {\n",
    " 'Xm': [21, 21.72, 44.87, 68.2, 91.45, 114.72, 137.87, 160.97, 184.04],\n",
    " 'Ym': [21.72, 44.87, 68.2, 91.45, 114.72, 137.87, 160.97, 184.04],\n",
    " 'center_x': 0,\n",
    " 'center_y': 0,\n",
    " 'dark_all': False,\n",
    " 'focal': 0.032,\n",
    " 'grid': True,\n",
    " 'steer_only': False,\n",
    " 'nrows': 4,\n",
    " 'ncols': 12,\n",
    " 'phase_factor': 82,\n",
    " 'phase_max': 3.,\n",
    " 'phase_wrap_neg': True,\n",
    " 'phase_wrap_pos': False,\n",
    " 'pitch_x': 25,\n",
    " 'pitch_y': 25,\n",
    " 'ref_spot': 0,\n",
    " 'ref_spot_dark': False,\n",
    " 'rotation': 1,\n",
    " 'spotsize': 30.0,\n",
    " 'steer_horiz': True,\n",
    " 'steer_lw': 1,\n",
    " 'steer_pad': 0,\n",
    " 'steer_vmax': 95,\n",
    " 'test_pattern': False,\n",
    " 'wavelen': 532e-09,\n",
    " 'stretch': True,\n",
    "}"
   ]
  },
  {
   "cell_type": "code",
   "execution_count": null,
   "metadata": {
    "collapsed": false,
    "deletable": true,
    "editable": true
   },
   "outputs": [],
   "source": [
    "a = compute_pattern(**d)"
   ]
  },
  {
   "cell_type": "code",
   "execution_count": null,
   "metadata": {
    "collapsed": false,
    "deletable": true,
    "editable": true,
    "scrolled": false
   },
   "outputs": [],
   "source": [
    "fig, ax = plt.subplots(figsize=(8, 5))\n",
    "im = plt.imshow(a, interpolation='none', cmap='magma',\n",
    "                vmin=0, vmax=255)#, norm=mpl.colors.LogNorm(1, 255))\n",
    "plt.colorbar()\n",
    "#plt.tight_layout()"
   ]
  },
  {
   "cell_type": "code",
   "execution_count": null,
   "metadata": {
    "collapsed": false,
    "deletable": true,
    "editable": true,
    "scrolled": false
   },
   "outputs": [],
   "source": [
    "fig, ax = plt.subplots(figsize=(7, 4))\n",
    "im = plt.imshow(a, interpolation='none', cmap='Greys_r',\n",
    "                vmin=0, vmax=255)#, norm=mpl.colors.LogNorm(1, 255))\n",
    "plt.colorbar()\n",
    "#plt.tight_layout()\n",
    "plt.xlim(480, 320)\n",
    "plt.ylim(240, 360)\n",
    "plt.savefig('pattern.png', bbox_inches='tight', dpi=300)"
   ]
  },
  {
   "cell_type": "markdown",
   "metadata": {
    "collapsed": true,
    "deletable": true,
    "editable": true
   },
   "source": [
    "# Line Pattern"
   ]
  },
  {
   "cell_type": "code",
   "execution_count": null,
   "metadata": {
    "collapsed": true,
    "deletable": true,
    "editable": true
   },
   "outputs": [],
   "source": [
    "def compute_linepattern(center, width, horiz, \n",
    "                        focal, phase_factor, phase_max, phase_wrap_neg, phase_wrap_pos, wavelen):\n",
    "    a = black_pattern(float)\n",
    "    if horiz:\n",
    "        size_para, size_cross = LCOS_X_SIZE, LCOS_Y_SIZE\n",
    "        a_rot = a\n",
    "    else:\n",
    "        size_para, size_cross = LCOS_Y_SIZE, LCOS_X_SIZE\n",
    "        a_rot = a.T\n",
    "\n",
    "    delta = width / 2\n",
    "    xy = np.arange(size_cross) - size_cross // 2\n",
    "    mask = np.abs(xy - center) < delta\n",
    "    r = (xy[mask] - center) * LCOS_PIX_SIZE\n",
    "    phase = phase_max + phase_spherical(r, f=focal, wavelen=wavelen)\n",
    "    a_rot[mask] = phase[:, np.newaxis]\n",
    "    a = phase_wrapping(a, phase_max=phase_max, phase_factor=phase_factor,\n",
    "                       phase_wrap_pos=phase_wrap_pos,\n",
    "                       phase_wrap_neg=phase_wrap_neg)\n",
    "    return a.round().astype('uint8')"
   ]
  },
  {
   "cell_type": "code",
   "execution_count": null,
   "metadata": {
    "collapsed": false,
    "deletable": true,
    "editable": true
   },
   "outputs": [],
   "source": [
    "dl = dict(\n",
    "    center=100,\n",
    "    width=30,\n",
    "    horiz=False,\n",
    "    focal=0.036,\n",
    "    phase_factor=82,\n",
    "    phase_max=3,\n",
    "    phase_wrap_pos=False,\n",
    "    phase_wrap_neg=True,\n",
    "    wavelen=532e-9,\n",
    ")"
   ]
  },
  {
   "cell_type": "code",
   "execution_count": null,
   "metadata": {
    "collapsed": false,
    "deletable": true,
    "editable": true
   },
   "outputs": [],
   "source": [
    "a = compute_linepattern(**dl)"
   ]
  },
  {
   "cell_type": "code",
   "execution_count": null,
   "metadata": {
    "collapsed": false,
    "deletable": true,
    "editable": true
   },
   "outputs": [],
   "source": [
    "fig, ax = plt.subplots(figsize=(8, 5))\n",
    "im = plt.imshow(a, interpolation='none', cmap='magma', vmin=0, vmax=255)\n",
    "plt.colorbar()"
   ]
  },
  {
   "cell_type": "code",
   "execution_count": null,
   "metadata": {
    "collapsed": true
   },
   "outputs": [],
   "source": []
  }
 ],
 "metadata": {
  "anaconda-cloud": {},
  "kernelspec": {
   "display_name": "Python 3",
   "language": "python",
   "name": "python3"
  },
  "language_info": {
   "codemirror_mode": {
    "name": "ipython",
    "version": 3
   },
   "file_extension": ".py",
   "mimetype": "text/x-python",
   "name": "python",
   "nbconvert_exporter": "python",
   "pygments_lexer": "ipython3",
   "version": "3.6.1"
  },
  "nav_menu": {},
  "toc": {
   "navigate_menu": true,
   "number_sections": true,
   "sideBar": true,
   "threshold": 6,
   "toc_cell": false,
   "toc_section_display": "block",
   "toc_window_display": false
  }
 },
 "nbformat": 4,
 "nbformat_minor": 0
}
